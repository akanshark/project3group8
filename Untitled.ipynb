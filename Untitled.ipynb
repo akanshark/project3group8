{
 "cells": [
  {
   "cell_type": "code",
   "execution_count": 3,
   "id": "d64eaf14",
   "metadata": {},
   "outputs": [],
   "source": [
    "import csv\n",
    "import sqlite3\n",
    "from pathlib import Path\n",
    "from sqlalchemy import create_engine"
   ]
  },
  {
   "cell_type": "code",
   "execution_count": 2,
   "id": "967ba08d",
   "metadata": {},
   "outputs": [
    {
     "ename": "NameError",
     "evalue": "name 'database_path' is not defined",
     "output_type": "error",
     "traceback": [
      "\u001b[1;31m---------------------------------------------------------------------------\u001b[0m",
      "\u001b[1;31mNameError\u001b[0m                                 Traceback (most recent call last)",
      "Cell \u001b[1;32mIn[2], line 1\u001b[0m\n\u001b[1;32m----> 1\u001b[0m engine \u001b[38;5;241m=\u001b[39m create_engine(\u001b[38;5;124mf\u001b[39m\u001b[38;5;124m\"\u001b[39m\u001b[38;5;124msqlite:///\u001b[39m\u001b[38;5;132;01m{\u001b[39;00mdatabase_path\u001b[38;5;132;01m}\u001b[39;00m\u001b[38;5;124m\"\u001b[39m)\n\u001b[0;32m      2\u001b[0m conn \u001b[38;5;241m=\u001b[39m engine\u001b[38;5;241m.\u001b[39mconnect()\n",
      "\u001b[1;31mNameError\u001b[0m: name 'database_path' is not defined"
     ]
    }
   ],
   "source": []
  },
  {
   "cell_type": "code",
   "execution_count": null,
   "id": "e64d619a",
   "metadata": {},
   "outputs": [],
   "source": [
    "# Table Definition\n",
    "create_table = '''                \n",
    "                CREATE TABLE fundamental_data( \n",
    "                Ticker TEXT PRIMARY KEY,\n",
    "                MarketCap INTEGER NOT NULL,\n",
    "                FiftyTwoWeekHigh FLOAT,\n",
    "                EarningsPerShare FLOAT,\n",
    "                PE_Ratio FLOAT,\n",
    "                DividendYield FLOAT,\n",
    "                GrossProfitMargin FLOAT,\n",
    "                NetIncome FLOAT,\n",
    "                BookValuePerShare FLOAT,\n",
    "                TotalDebt FLOAT,\n",
    "                CurrentRatio FLOAT,\n",
    "                DebtToEquityRatio FLOAT,\n",
    "                LongBusinessSummary VARCHAR(5000)\n",
    "                );\n",
    "\n",
    "                '''\n",
    " \n",
    "# Creating the table into our\n",
    "# database\n",
    "cursor.execute(create_table)\n",
    " \n",
    "# Opening the person-records.csv file\n",
    "file = open('fundamental_data.csv')\n",
    " \n",
    "# Reading the contents of the\n",
    "# person-records.csv file\n",
    "contents = csv.reader(file)\n",
    " \n",
    "# Importing the contents of the file\n",
    "# into our person table\n",
    "#cursor.executemany(contents)\n",
    " \n",
    "# SQL query to retrieve all data from\n",
    "# the person table To verify that the\n",
    "# data of the csv file has been successfully\n",
    "# inserted into the table\n",
    "select_all = \"SELECT * FROM fundamental_data\"\n",
    "#rows = cursor.execute(select_all).fetchall()\n",
    " \n",
    "# Output to the console screen\n",
    "for r in rows:\n",
    "    print(r)\n",
    " \n",
    "# Committing the changes\n",
    "connection.commit()\n",
    " \n",
    "# closing the database connection\n",
    "connection.close()"
   ]
  },
  {
   "cell_type": "code",
   "execution_count": null,
   "id": "d9e0c437",
   "metadata": {},
   "outputs": [],
   "source": [
    "connection = sqlite3.connect('dow.db')\n",
    "conn = engine.connect()\n",
    "cursor = connection.cursor()"
   ]
  }
 ],
 "metadata": {
  "kernelspec": {
   "display_name": "dev",
   "language": "python",
   "name": "dev"
  },
  "language_info": {
   "codemirror_mode": {
    "name": "ipython",
    "version": 3
   },
   "file_extension": ".py",
   "mimetype": "text/x-python",
   "name": "python",
   "nbconvert_exporter": "python",
   "pygments_lexer": "ipython3",
   "version": "3.10.11"
  }
 },
 "nbformat": 4,
 "nbformat_minor": 5
}
