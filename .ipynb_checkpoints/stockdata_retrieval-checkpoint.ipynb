{
 "cells": [
  {
   "cell_type": "code",
   "execution_count": 3,
   "id": "925adfd2",
   "metadata": {},
   "outputs": [
    {
     "name": "stdout",
     "output_type": "stream",
     "text": [
      "Collecting yfinance\n",
      "  Downloading yfinance-0.2.30-py2.py3-none-any.whl (65 kB)\n",
      "     ---------------------------------------- 0.0/65.4 kB ? eta -:--:--\n",
      "     ---------------------------------------- 65.4/65.4 kB 1.7 MB/s eta 0:00:00\n",
      "Requirement already satisfied: html5lib>=1.1 in c:\\users\\akans\\anaconda3\\envs\\dev\\lib\\site-packages (from yfinance) (1.1)\n",
      "Requirement already satisfied: beautifulsoup4>=4.11.1 in c:\\users\\akans\\anaconda3\\envs\\dev\\lib\\site-packages (from yfinance) (4.12.2)\n",
      "Requirement already satisfied: numpy>=1.16.5 in c:\\users\\akans\\anaconda3\\envs\\dev\\lib\\site-packages (from yfinance) (1.24.3)\n",
      "Collecting requests>=2.31\n",
      "  Using cached requests-2.31.0-py3-none-any.whl (62 kB)\n",
      "Requirement already satisfied: pandas>=1.3.0 in c:\\users\\akans\\anaconda3\\envs\\dev\\lib\\site-packages (from yfinance) (1.5.3)\n",
      "Requirement already satisfied: lxml>=4.9.1 in c:\\users\\akans\\anaconda3\\envs\\dev\\lib\\site-packages (from yfinance) (4.9.2)\n",
      "Collecting multitasking>=0.0.7\n",
      "  Downloading multitasking-0.0.11-py3-none-any.whl (8.5 kB)\n",
      "Requirement already satisfied: appdirs>=1.4.4 in c:\\users\\akans\\anaconda3\\envs\\dev\\lib\\site-packages (from yfinance) (1.4.4)\n",
      "Collecting peewee>=3.16.2\n",
      "  Downloading peewee-3.16.3.tar.gz (928 kB)\n",
      "     ---------------------------------------- 0.0/928.0 kB ? eta -:--:--\n",
      "     ----------------------- ------------- 583.7/928.0 kB 12.2 MB/s eta 0:00:01\n",
      "     ------------------------------------  921.6/928.0 kB 11.7 MB/s eta 0:00:01\n",
      "     -------------------------------------- 928.0/928.0 kB 9.8 MB/s eta 0:00:00\n",
      "  Installing build dependencies: started\n",
      "  Installing build dependencies: finished with status 'done'\n",
      "  Getting requirements to build wheel: started\n",
      "  Getting requirements to build wheel: finished with status 'done'\n",
      "  Preparing metadata (pyproject.toml): started\n",
      "  Preparing metadata (pyproject.toml): finished with status 'done'\n",
      "Collecting frozendict>=2.3.4\n",
      "  Downloading frozendict-2.3.8-cp310-cp310-win_amd64.whl (35 kB)\n",
      "Requirement already satisfied: pytz>=2022.5 in c:\\users\\akans\\anaconda3\\envs\\dev\\lib\\site-packages (from yfinance) (2022.7)\n",
      "Requirement already satisfied: soupsieve>1.2 in c:\\users\\akans\\anaconda3\\envs\\dev\\lib\\site-packages (from beautifulsoup4>=4.11.1->yfinance) (2.4)\n",
      "Requirement already satisfied: six>=1.9 in c:\\users\\akans\\anaconda3\\envs\\dev\\lib\\site-packages (from html5lib>=1.1->yfinance) (1.16.0)\n",
      "Requirement already satisfied: webencodings in c:\\users\\akans\\anaconda3\\envs\\dev\\lib\\site-packages (from html5lib>=1.1->yfinance) (0.5.1)\n",
      "Requirement already satisfied: python-dateutil>=2.8.1 in c:\\users\\akans\\anaconda3\\envs\\dev\\lib\\site-packages (from pandas>=1.3.0->yfinance) (2.8.2)\n",
      "Requirement already satisfied: certifi>=2017.4.17 in c:\\users\\akans\\anaconda3\\envs\\dev\\lib\\site-packages (from requests>=2.31->yfinance) (2023.5.7)\n",
      "Requirement already satisfied: idna<4,>=2.5 in c:\\users\\akans\\anaconda3\\envs\\dev\\lib\\site-packages (from requests>=2.31->yfinance) (3.4)\n",
      "Requirement already satisfied: charset-normalizer<4,>=2 in c:\\users\\akans\\anaconda3\\envs\\dev\\lib\\site-packages (from requests>=2.31->yfinance) (2.0.4)\n",
      "Requirement already satisfied: urllib3<3,>=1.21.1 in c:\\users\\akans\\anaconda3\\envs\\dev\\lib\\site-packages (from requests>=2.31->yfinance) (1.26.15)\n",
      "Building wheels for collected packages: peewee\n",
      "  Building wheel for peewee (pyproject.toml): started\n",
      "  Building wheel for peewee (pyproject.toml): finished with status 'done'\n",
      "  Created wheel for peewee: filename=peewee-3.16.3-py3-none-any.whl size=135547 sha256=a3763bd362f331e2bbc091ea6049129e88b5d03f59111512195f29495a131ee5\n",
      "  Stored in directory: c:\\users\\akans\\appdata\\local\\pip\\cache\\wheels\\c8\\ac\\6d\\ad6d828725ffbe3abc508c95d25dd0c5fcc63539ae47913790\n",
      "Successfully built peewee\n",
      "Installing collected packages: peewee, multitasking, requests, frozendict, yfinance\n",
      "  Attempting uninstall: requests\n",
      "    Found existing installation: requests 2.29.0\n",
      "    Uninstalling requests-2.29.0:\n",
      "      Successfully uninstalled requests-2.29.0\n",
      "Successfully installed frozendict-2.3.8 multitasking-0.0.11 peewee-3.16.3 requests-2.31.0 yfinance-0.2.30\n",
      "Note: you may need to restart the kernel to use updated packages.\n"
     ]
    }
   ],
   "source": [
    "pip install yfinance"
   ]
  },
  {
   "cell_type": "code",
   "execution_count": 2,
   "id": "9f2d1a7f",
   "metadata": {},
   "outputs": [
    {
     "ename": "ModuleNotFoundError",
     "evalue": "No module named 'yfinance'",
     "output_type": "error",
     "traceback": [
      "\u001b[1;31m---------------------------------------------------------------------------\u001b[0m",
      "\u001b[1;31mModuleNotFoundError\u001b[0m                       Traceback (most recent call last)",
      "Cell \u001b[1;32mIn[2], line 3\u001b[0m\n\u001b[0;32m      1\u001b[0m \u001b[38;5;28;01mimport\u001b[39;00m \u001b[38;5;21;01mpandas\u001b[39;00m \u001b[38;5;28;01mas\u001b[39;00m \u001b[38;5;21;01mpd\u001b[39;00m\n\u001b[0;32m      2\u001b[0m \u001b[38;5;28;01mimport\u001b[39;00m \u001b[38;5;21;01mnumpy\u001b[39;00m \u001b[38;5;28;01mas\u001b[39;00m \u001b[38;5;21;01mnp\u001b[39;00m\n\u001b[1;32m----> 3\u001b[0m \u001b[38;5;28;01mimport\u001b[39;00m \u001b[38;5;21;01myfinance\u001b[39;00m \u001b[38;5;28;01mas\u001b[39;00m \u001b[38;5;21;01myf\u001b[39;00m\n",
      "\u001b[1;31mModuleNotFoundError\u001b[0m: No module named 'yfinance'"
     ]
    }
   ],
   "source": [
    "import pandas as pd\n",
    "import numpy as np\n",
    "import yfinance as yf"
   ]
  },
  {
   "cell_type": "code",
   "execution_count": 2,
   "id": "b9773fd3",
   "metadata": {},
   "outputs": [
    {
     "ename": "NameError",
     "evalue": "name 'yf' is not defined",
     "output_type": "error",
     "traceback": [
      "\u001b[1;31m---------------------------------------------------------------------------\u001b[0m",
      "\u001b[1;31mNameError\u001b[0m                                 Traceback (most recent call last)",
      "Cell \u001b[1;32mIn[2], line 2\u001b[0m\n\u001b[0;32m      1\u001b[0m \u001b[38;5;66;03m#getting an understanding of how the data is presented\u001b[39;00m\n\u001b[1;32m----> 2\u001b[0m msft \u001b[38;5;241m=\u001b[39m \u001b[43myf\u001b[49m\u001b[38;5;241m.\u001b[39mTicker(\u001b[38;5;124m'\u001b[39m\u001b[38;5;124mmsft\u001b[39m\u001b[38;5;124m'\u001b[39m)\n\u001b[0;32m      3\u001b[0m msft\u001b[38;5;241m.\u001b[39minfo\n",
      "\u001b[1;31mNameError\u001b[0m: name 'yf' is not defined"
     ]
    }
   ],
   "source": [
    "#getting an understanding of how the data is presented\n",
    "msft = yf.Ticker('msft')\n",
    "msft.info\n"
   ]
  },
  {
   "cell_type": "code",
   "execution_count": null,
   "id": "bcf97284",
   "metadata": {},
   "outputs": [],
   "source": [
    "msft.info['longBusinessSummary']"
   ]
  },
  {
   "cell_type": "code",
   "execution_count": null,
   "id": "b1a0f264",
   "metadata": {},
   "outputs": [],
   "source": [
    "#Create a list of tickers\n",
    "tickers = ['unh','gs','msft','hd','cat','mcd','amgn','v','crm','ba','hon','aapl','trv','cvx','wmt','jnj','axp','pg','ibm','jpm','mrk','mmm','nke','dis','ko','csco','dow','intc','vz','wba']\n",
    "tickers\n"
   ]
  },
  {
   "cell_type": "code",
   "execution_count": null,
   "id": "07634e0d",
   "metadata": {},
   "outputs": [],
   "source": [
    "#Download a years worth of historical data for components of the Dow Jones Industrail Index\n",
    "data = yf.download(['unh','gs','msft','hd','cat','mcd','amgn','v','crm','ba','hon','aapl','trv','cvx','wmt','jnj','axp','pg','ibm','jpm','mrk','mmm','nke','dis','ko','csco','dow','intc','vz','wba'],start = '2022-09-01',end='2023-09-26',group_by = 'ticker')\n",
    "data.head()\n"
   ]
  },
  {
   "cell_type": "code",
   "execution_count": null,
   "id": "b4c8dc70",
   "metadata": {},
   "outputs": [],
   "source": [
    "#Download a years worth of historical data for components of the Dow Jones Industrail Index\n",
    "data = yf.download(tickers,start = '2022-09-01',end='2023-09-26',group_by = 'ticker')\n",
    "data.head()"
   ]
  },
  {
   "cell_type": "code",
   "execution_count": null,
   "id": "b9c7accb",
   "metadata": {},
   "outputs": [],
   "source": [
    "# Creating a CSV file from the data\n",
    "data.to_csv(\"historical_data.csv\")"
   ]
  },
  {
   "cell_type": "code",
   "execution_count": null,
   "id": "0a018ef1",
   "metadata": {},
   "outputs": [],
   "source": [
    "# Create an empty DataFrame to store the data\n",
    "additional_data = pd.DataFrame()\n",
    "\n",
    "# Iterate through each ticker and retrieve information\n",
    "for ticker in tickers:\n",
    "    stock = yf.Ticker(ticker)\n",
    "    info = stock.info\n",
    "    \n",
    "    # Extract the relevant information for the current ticker\n",
    "    fundamentals = {\n",
    "        'Ticker': ticker,\n",
    "        'MarketCap': info.get('marketCap', None),\n",
    "        'FiftyTwoWeekHigh': info.get('fiftyTwoWeekHigh', None),\n",
    "        'EarningsPerShare': info.get('trailingEps', None),\n",
    "        'PE_Ratio': info.get('trailingPE', None),\n",
    "        'DividendYield': info.get('dividendYield', None),\n",
    "        'GrossProfitMargin': info.get('grossMargins', None),\n",
    "        'NetIncome': info.get('netIncomeToCommon', None),\n",
    "        'BookValuePerShare': info.get('bookValue', None),\n",
    "        'TotalDebt': info.get('totalDebt', None),\n",
    "        'CurrentRatio': info.get('currentRatio', None),\n",
    "        'DebtToEquityRatio': info.get('debtToEquity', None),\n",
    "}\n",
    "    \n",
    "    # Append the data for the current ticker to the DataFrame\n",
    "    additional_data = additional_data.append(fundamentals, ignore_index=True)\n",
    "    \n",
    "\n",
    "# Print the resulting DataFrame\n",
    "print(additional_data.head())"
   ]
  },
  {
   "cell_type": "code",
   "execution_count": null,
   "id": "1c5dfd71",
   "metadata": {},
   "outputs": [],
   "source": [
    "#export to a csv file\n",
    "additional_data.to_csv(\"fundamental_data.csv\")"
   ]
  },
  {
   "cell_type": "code",
   "execution_count": null,
   "id": "42a89923",
   "metadata": {},
   "outputs": [],
   "source": [
    "description = pd.DataFrame()\n",
    "\n",
    "# Iterate through each ticker and retrieve information\n",
    "for ticker in tickers:\n",
    "    stock = yf.Ticker(ticker)\n",
    "    info = stock.info\n",
    "    \n",
    "    # Extract the relevant information for the current ticker\n",
    "    profile = {\n",
    "        'Ticker': ticker,\n",
    "        'LongBusinessSummary': info.get('longBusinessSummary', None)\n",
    "    }\n",
    "    \n",
    "    # Append the data for the current ticker to the DataFrame\n",
    "    description = description.append(profile, ignore_index=True)\n",
    "\n",
    "# Print the resulting DataFrame\n",
    "print(description)"
   ]
  },
  {
   "cell_type": "code",
   "execution_count": null,
   "id": "68344df3",
   "metadata": {},
   "outputs": [],
   "source": [
    "description.to_csv(\"Description.csv\")"
   ]
  }
 ],
 "metadata": {
  "kernelspec": {
   "display_name": "dev",
   "language": "python",
   "name": "dev"
  },
  "language_info": {
   "codemirror_mode": {
    "name": "ipython",
    "version": 3
   },
   "file_extension": ".py",
   "mimetype": "text/x-python",
   "name": "python",
   "nbconvert_exporter": "python",
   "pygments_lexer": "ipython3",
   "version": "3.10.11"
  }
 },
 "nbformat": 4,
 "nbformat_minor": 5
}
