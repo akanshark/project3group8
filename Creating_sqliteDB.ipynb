{
 "cells": [
  {
   "cell_type": "code",
   "execution_count": 3,
   "id": "9179c0b6",
   "metadata": {},
   "outputs": [],
   "source": [
    "#import the dependencies\n",
    "import sqlite3\n",
    "import pandas as pd\n",
    "from sqlalchemy import create_engine, text\n"
   ]
  },
  {
   "cell_type": "code",
   "execution_count": 8,
   "id": "df9b55cd",
   "metadata": {},
   "outputs": [],
   "source": [
    "file_names = [\"historical_data.csv\"]\n",
    "conn = sqlite3.connect(\"Dow.sqlite\") \n",
    "for file_name in file_names:\n",
    "    table_name = file_name.split('_')[0]\n",
    "    df = pd.read_csv('historical_data.csv')\n",
    "    df.to_sql(table_name, conn, if_exists='append', index=False)\n",
    "conn.close()"
   ]
  },
  {
   "cell_type": "code",
   "execution_count": null,
   "id": "f8675815",
   "metadata": {},
   "outputs": [],
   "source": []
  }
 ],
 "metadata": {
  "kernelspec": {
   "display_name": "Python 3 (ipykernel)",
   "language": "python",
   "name": "python3"
  },
  "language_info": {
   "codemirror_mode": {
    "name": "ipython",
    "version": 3
   },
   "file_extension": ".py",
   "mimetype": "text/x-python",
   "name": "python",
   "nbconvert_exporter": "python",
   "pygments_lexer": "ipython3",
   "version": "3.10.11"
  }
 },
 "nbformat": 4,
 "nbformat_minor": 5
}
